{
 "cells": [
  {
   "cell_type": "code",
   "execution_count": 2,
   "metadata": {
    "colab": {},
    "colab_type": "code",
    "id": "BosPCj5x38q_"
   },
   "outputs": [],
   "source": [
    "import gensim\n",
    "import numpy as np\n",
    "import pandas as pd\n",
    "import os\n",
    "import re\n",
    "import csv\n",
    "import codecs\n",
    "import sys\n",
    "import pickle\n",
    "import matplotlib as mpl\n",
    "%matplotlib inline\n",
    "from matplotlib import pyplot as plt\n",
    "from keras.utils import plot_model \n",
    "from IPython.display import Image\n",
    "import pydot\n",
    "from sklearn.preprocessing import LabelEncoder\n",
    "from keras.utils import np_utils\n",
    "import tensorflow as tf\n",
    "from nltk.corpus import stopwords\n",
    "from nltk.stem import SnowballStemmer\n",
    "from keras import backend as K\n",
    "from keras.engine.topology import Layer\n",
    "#from keras import initializations\n",
    "from keras import initializers, regularizers, constraints\n",
    "from gensim.scripts.glove2word2vec import glove2word2vec\n",
    "from gensim.models import KeyedVectors\n",
    "from sklearn.model_selection import train_test_split\n",
    "from keras.layers.merge import concatenate\n",
    "from keras.layers.normalization import BatchNormalization\n",
    "from keras.preprocessing.text import text_to_word_sequence, Tokenizer\n",
    "from keras.preprocessing.sequence import pad_sequences\n",
    "from keras import callbacks\n",
    "from keras import optimizers\n",
    "from string import punctuation\n",
    "from keras.models import Sequential, Model\n",
    "from keras.layers import Input, Dense, LSTM, Embedding, Dropout, BatchNormalization, Activation, Bidirectional"
   ]
  },
  {
   "cell_type": "code",
   "execution_count": 3,
   "metadata": {
    "colab": {
     "base_uri": "https://localhost:8080/",
     "height": 34
    },
    "colab_type": "code",
    "id": "JgpBdh-t04Ya",
    "outputId": "110fc998-e496-4ac5-e253-e24df291cac8"
   },
   "outputs": [
    {
     "name": "stdout",
     "output_type": "stream",
     "text": [
      "fatal: destination path 'Fake-news-challenge' already exists and is not an empty directory.\n"
     ]
    }
   ],
   "source": [
    "!git clone https://github.com/Jayagn/Fake-news-challenge.git"
   ]
  },
  {
   "cell_type": "code",
   "execution_count": null,
   "metadata": {},
   "outputs": [],
   "source": [
    "cd Fake-news-challenge/"
   ]
  },
  {
   "cell_type": "code",
   "execution_count": 120,
   "metadata": {
    "colab": {},
    "colab_type": "code",
    "id": "IdCx9Trp4KJf"
   },
   "outputs": [],
   "source": [
    "#Specifying the folder locations\n",
    "GloVe_DIR = './data/glove.twitter.27B.50d.txt'\n",
    "DATA_DIR = './data'\n",
    "MAX_SENT_LEN = 150 #to be tested on (150, 300 and 700)\n",
    "MAX_VOCAB_SIZE = 28000 #vocabulary\n",
    "BATCH_SIZE = 512\n",
    "N_EPOCHS = 20 \n",
    "LSTM_DIM = 50\n",
    "EMBEDDING_DIM = 50 "
   ]
  },
  {
   "cell_type": "code",
   "execution_count": 121,
   "metadata": {
    "colab": {},
    "colab_type": "code",
    "id": "R1AqH9BB4Wlz"
   },
   "outputs": [],
   "source": [
    "seed = 1\n",
    "np.random.seed(seed)"
   ]
  },
  {
   "cell_type": "code",
   "execution_count": 122,
   "metadata": {
    "colab": {},
    "colab_type": "code",
    "id": "TE0HAJOI4dRM"
   },
   "outputs": [],
   "source": [
    "# Read the text files of fnc data\n",
    "bodies = pd.read_csv(DATA_DIR + '/body_id.csv')\n",
    "train_df = pd.read_csv(DATA_DIR + '/train.csv')\n",
    "#validation_df = pd.read_csv(DATA_DIR + '/validation_data.csv')\n",
    "test_df = pd.read_csv(DATA_DIR + '/test.csv')"
   ]
  },
  {
   "cell_type": "code",
   "execution_count": 123,
   "metadata": {
    "colab": {},
    "colab_type": "code",
    "id": "PTep5suA4zEg"
   },
   "outputs": [],
   "source": [
    "train_df.replace('unrelated',1,True)\n",
    "train_df.replace('agree',2,True)\n",
    "train_df.replace('disagree',3,True)\n",
    "train_df.replace('discuss',4,True)\n",
    "combine_df_train = train_df.join(bodies.set_index('Body ID'), on='Body ID')\n",
    "combine_df_test = test_df.join(bodies.set_index('Body ID'), on='Body ID')"
   ]
  },
  {
   "cell_type": "code",
   "execution_count": 125,
   "metadata": {
    "colab": {},
    "colab_type": "code",
    "id": "gsuyjJQJ438C"
   },
   "outputs": [],
   "source": [
    "#Pre-processing the data\n",
    "word_seq_head_train = [text_to_word_sequence(head) for head in combine_df_train['Headline']]\n",
    "word_seq_bodies_train = [text_to_word_sequence(body) for body in combine_df_train['articleBody']]\n",
    "word_seq_head_test = [text_to_word_sequence(head) for head in combine_df_test['Headline']]\n",
    "word_seq_bodies_test = [text_to_word_sequence(body) for body in combine_df_test['articleBody']]"
   ]
  },
  {
   "cell_type": "code",
   "execution_count": 126,
   "metadata": {
    "colab": {},
    "colab_type": "code",
    "id": "0YUq6I9f46Bp"
   },
   "outputs": [],
   "source": [
    "word_seq = []\n",
    "for i in range(len(word_seq_head_train)):\n",
    "    word_seq.append(word_seq_head_train[i])\n",
    "for i in range(len(word_seq_bodies_train)):\n",
    "    word_seq.append(word_seq_bodies_train[i])\n",
    "for i in range(len(word_seq_head_test)):\n",
    "    word_seq.append(word_seq_head_test[i])\n",
    "for i in range(len(word_seq_bodies_test)):\n",
    "    word_seq.append(word_seq_bodies_test[i])"
   ]
  },
  {
   "cell_type": "code",
   "execution_count": null,
   "metadata": {
    "colab": {},
    "colab_type": "code",
    "id": "g4FauKgO48wv"
   },
   "outputs": [],
   "source": [
    "#Tokenizing sentences\n",
    "filter_list = '!\"\\'#$%&()*+,-./:;<=>?@[\\\\]^_`{|}~\\t\\n'\n",
    "\n",
    "tokenizer = Tokenizer(num_words=MAX_VOCAB_SIZE, filters=filter_list)\n",
    "tokenizer.fit_on_texts([seq for seq in word_seq])"
   ]
  },
  {
   "cell_type": "code",
   "execution_count": 128,
   "metadata": {
    "colab": {},
    "colab_type": "code",
    "id": "54h0SNB54-z1"
   },
   "outputs": [],
   "source": [
    "#Combining headline and body together\n",
    "word_seq_train = [list(i) for i in word_seq_head_train]\n",
    "for i in range(len(word_seq_head_train)):\n",
    "    word_seq_train[i].extend(word_seq_bodies_train[i]) \n",
    "    \n",
    "word_seq_test = [list(i) for i in word_seq_head_test]\n",
    "for i in range(len(word_seq_head_test)):\n",
    "    word_seq_test[i].extend(word_seq_bodies_test[i])"
   ]
  },
  {
   "cell_type": "code",
   "execution_count": 129,
   "metadata": {
    "colab": {},
    "colab_type": "code",
    "id": "s7cATGCY5BaQ"
   },
   "outputs": [],
   "source": [
    "#Padding the data\n",
    "X_train = tokenizer.texts_to_sequences([' '.join(seq[:MAX_SENT_LEN]) for seq in word_seq_train])\n",
    "X_train = pad_sequences(X_train, maxlen=MAX_SENT_LEN, padding='post', truncating='post')\n",
    "y_train = combine_df_train['Stance']"
   ]
  },
  {
   "cell_type": "code",
   "execution_count": 130,
   "metadata": {
    "colab": {},
    "colab_type": "code",
    "id": "yvgtp-k25ELT"
   },
   "outputs": [],
   "source": [
    "#Converting the sequence of words to sequnce of indices\n",
    "X_test = tokenizer.texts_to_sequences([' '.join(seq[:MAX_SENT_LEN]) for seq in word_seq_test])\n",
    "X_test = pad_sequences(X_test, maxlen=MAX_SENT_LEN, padding='post', truncating='post')"
   ]
  },
  {
   "cell_type": "code",
   "execution_count": 131,
   "metadata": {
    "colab": {},
    "colab_type": "code",
    "id": "eaODiMhP5GyJ"
   },
   "outputs": [],
   "source": [
    "#One hot encoding\n",
    "encoder_train = LabelEncoder()\n",
    "encoder_train.fit(y_train)\n",
    "encoded_train = encoder_train.transform(y_train)\n",
    "dummy_y_train = np_utils.to_categorical(encoded_train)"
   ]
  },
  {
   "cell_type": "code",
   "execution_count": 132,
   "metadata": {
    "colab": {},
    "colab_type": "code",
    "id": "8HMUHqN_5JDd"
   },
   "outputs": [],
   "source": [
    "X_train, X_vali, y_train, y_vali = train_test_split(X_train, dummy_y_train, random_state=10, test_size=0.1)"
   ]
  },
  {
   "cell_type": "code",
   "execution_count": 133,
   "metadata": {
    "colab": {
     "base_uri": "https://localhost:8080/",
     "height": 71
    },
    "colab_type": "code",
    "id": "vzQ92uJQ5OWc",
    "outputId": "4aea3ec6-16b9-4307-f2fe-507e081aeb96"
   },
   "outputs": [
    {
     "name": "stderr",
     "output_type": "stream",
     "text": [
      "/usr/local/lib/python3.6/dist-packages/smart_open/smart_open_lib.py:254: UserWarning: This function is deprecated, use smart_open.open instead. See the migration notes for details: https://github.com/RaRe-Technologies/smart_open/blob/master/README.rst#migrating-to-the-new-open-function\n",
      "  'See the migration notes for details: %s' % _MIGRATION_NOTES_URL\n"
     ]
    }
   ],
   "source": [
    "#GloVes embedding\n",
    "glove_input_file = GloVe_DIR\n",
    "word2vec_output_file = 'glove.50d.txt.word2vec'\n",
    "glove2word2vec(glove_input_file, word2vec_output_file)\n",
    "embeddings = gensim.models.KeyedVectors.load_word2vec_format(word2vec_output_file, binary=False)"
   ]
  },
  {
   "cell_type": "code",
   "execution_count": 134,
   "metadata": {
    "colab": {},
    "colab_type": "code",
    "id": "KduzB5Vw5Yn4"
   },
   "outputs": [],
   "source": [
    "#Create an embedding matrix containing only the word's in our vocabulary\n",
    "embeddings_matrix = np.random.uniform(-0.05, 0.05, size=(len(tokenizer.word_index)+1, EMBEDDING_DIM))\n",
    "for word, i in tokenizer.word_index.items(): \n",
    "    try:\n",
    "        embeddings_vector = embeddings[word]\n",
    "    except KeyError:\n",
    "        embeddings_vector = None\n",
    "\n",
    "    if embeddings_vector is not None:\n",
    "        embeddings_matrix[i] = embeddings_vector\n",
    "        \n",
    "del embeddings"
   ]
  },
  {
   "cell_type": "markdown",
   "metadata": {},
   "source": [
    "# Bidirectional LSTM"
   ]
  },
  {
   "cell_type": "code",
   "execution_count": 135,
   "metadata": {
    "colab": {},
    "colab_type": "code",
    "id": "hoLxVRvS5eKw"
   },
   "outputs": [],
   "source": [
    "#Building Bidirectional LSTM Model\n",
    "model_1 = Sequential()\n",
    "model_1.add(Embedding(input_dim=len(tokenizer.word_index)+1,output_dim=EMBEDDING_DIM, weights = [embeddings_matrix], trainable=True, name='word_embedding_layer', \n",
    "                      mask_zero=True))\n",
    "#mask_zero is to deal with padding problem\n",
    "model_1.add(Bidirectional(LSTM(LSTM_DIM, return_sequences=False, name='Bidrectional_lstm_layer1')))\n",
    "model_1.add(Dropout(rate=0.8, name='dropout_1')) #tried varying dropout rates\n",
    "model_1.add(Dense(4, activation='softmax', name='output_layer'))"
   ]
  },
  {
   "cell_type": "code",
   "execution_count": 24,
   "metadata": {
    "colab": {
     "base_uri": "https://localhost:8080/",
     "height": 466
    },
    "colab_type": "code",
    "id": "21QRXDfw8EZW",
    "outputId": "af6e9e6f-88d7-404e-c235-4019f2e294f5"
   },
   "outputs": [
    {
     "data": {
      "image/png": "[encoded data removed]",
      "text/plain": [
       "<IPython.core.display.Image object>"
      ]
     },
     "execution_count": 24,
     "metadata": {
      "tags": []
     },
     "output_type": "execute_result"
    }
   ],
   "source": [
    "plot_model(model_1, to_file='bidirectional_lstm.png')"
   ]
  },
  {
   "cell_type": "code",
   "execution_count": 136,
   "metadata": {
    "colab": {
     "base_uri": "https://localhost:8080/",
     "height": 290
    },
    "colab_type": "code",
    "id": "2Ce82VQG7lnO",
    "outputId": "fa82eb42-9e6d-49a2-9f7f-a40967323e63"
   },
   "outputs": [
    {
     "name": "stdout",
     "output_type": "stream",
     "text": [
      "Model: \"sequential_17\"\n",
      "_________________________________________________________________\n",
      "Layer (type)                 Output Shape              Param #   \n",
      "=================================================================\n",
      "word_embedding_layer (Embedd (None, None, 50)          1686400   \n",
      "_________________________________________________________________\n",
      "bidirectional_2 (Bidirection (None, 100)               40400     \n",
      "_________________________________________________________________\n",
      "dropout_1 (Dropout)          (None, 100)               0         \n",
      "_________________________________________________________________\n",
      "output_layer (Dense)         (None, 4)                 404       \n",
      "=================================================================\n",
      "Total params: 1,727,204\n",
      "Trainable params: 1,727,204\n",
      "Non-trainable params: 0\n",
      "_________________________________________________________________\n"
     ]
    }
   ],
   "source": [
    "model_1.summary()"
   ]
  },
  {
   "cell_type": "code",
   "execution_count": 137,
   "metadata": {
    "colab": {},
    "colab_type": "code",
    "id": "N9lcYpaD5hHU"
   },
   "outputs": [],
   "source": [
    "#use adam optimizer\n",
    "model_1.compile(loss='categorical_crossentropy',optimizer='adam',metrics=['accuracy'])"
   ]
  },
  {
   "cell_type": "code",
   "execution_count": null,
   "metadata": {
    "colab": {
     "base_uri": "https://localhost:8080/",
     "height": 392
    },
    "colab_type": "code",
    "id": "Y4ISNb995lmC",
    "outputId": "7a6cb6b0-a3f8-4580-d1f3-cf74171a309a"
   },
   "outputs": [
    {
     "name": "stdout",
     "output_type": "stream",
     "text": [
      "Epoch 1/20\n",
      "71/71 [==============================] - 86s 1s/step - loss: 0.9533 - accuracy: 0.6781 - val_loss: 0.7875 - val_accuracy: 0.7299\n",
      "Epoch 2/20\n",
      "71/71 [==============================] - 84s 1s/step - loss: 0.8150 - accuracy: 0.7336 - val_loss: 0.7554 - val_accuracy: 0.7299\n",
      "Epoch 3/20\n",
      "71/71 [==============================] - 84s 1s/step - loss: 0.7627 - accuracy: 0.7393 - val_loss: 0.7070 - val_accuracy: 0.7435\n",
      "Epoch 4/20\n",
      "71/71 [==============================] - 84s 1s/step - loss: 0.6889 - accuracy: 0.7583 - val_loss: 0.6315 - val_accuracy: 0.7703\n",
      "Epoch 5/20\n",
      "71/71 [==============================] - 84s 1s/step - loss: 0.6125 - accuracy: 0.7857 - val_loss: 0.5698 - val_accuracy: 0.7938\n",
      "Epoch 6/20\n",
      "71/71 [==============================] - 84s 1s/step - loss: 0.5609 - accuracy: 0.8044 - val_loss: 0.5452 - val_accuracy: 0.7998\n",
      "Epoch 7/20\n",
      "71/71 [==============================] - 85s 1s/step - loss: 0.5222 - accuracy: 0.8189 - val_loss: 0.5052 - val_accuracy: 0.8183\n",
      "Epoch 8/20\n",
      "71/71 [==============================] - 85s 1s/step - loss: 0.4892 - accuracy: 0.8288 - val_loss: 0.4946 - val_accuracy: 0.8198\n",
      "Epoch 9/20\n",
      "71/71 [==============================] - 85s 1s/step - loss: 0.4631 - accuracy: 0.8354 - val_loss: 0.4603 - val_accuracy: 0.8374\n",
      "Epoch 10/20\n",
      "71/71 [==============================] - 86s 1s/step - loss: 0.4392 - accuracy: 0.8414 - val_loss: 0.4384 - val_accuracy: 0.8431\n",
      "Epoch 11/20\n",
      "69/71 [============================>.] - ETA: 2s - loss: 0.4159 - accuracy: 0.8494"
     ]
    }
   ],
   "source": [
    "history_1 = model_1.fit(X_train, y_train, batch_size=BATCH_SIZE, epochs=20, validation_data=(X_vali, y_vali))"
   ]
  },
  {
   "cell_type": "code",
   "execution_count": null,
   "metadata": {
    "colab": {},
    "colab_type": "code",
    "id": "fRCeoGP36eT7"
   },
   "outputs": [],
   "source": [
    "model_1.save('bidirectional_lstm_150.h5')"
   ]
  },
  {
   "cell_type": "code",
   "execution_count": 69,
   "metadata": {
    "colab": {
     "base_uri": "https://localhost:8080/",
     "height": 295
    },
    "colab_type": "code",
    "id": "prwE7YHI5FDk",
    "outputId": "d85e113f-4e52-4fc5-c665-de07731f60f8"
   },
   "outputs": [
    {
     "data": {
      "image/png": "[encoded data removed]",
      "text/plain": [
       "<Figure size 432x288 with 1 Axes>"
      ]
     },
     "metadata": {
      "needs_background": "light",
      "tags": []
     },
     "output_type": "display_data"
    }
   ],
   "source": [
    "plt.plot(history_1.history['accuracy'])\n",
    "plt.plot(history_1.history['val_accuracy'])\n",
    "plt.title('Model accuracy of Bidirectional LSTM(Truncation: 700 Epoch: 20)')\n",
    "plt.ylabel('Accuracy')\n",
    "plt.xlabel('Epoch')\n",
    "plt.legend(['train', 'test'], loc='upper left')\n",
    "plt.show()"
   ]
  },
  {
   "cell_type": "code",
   "execution_count": 70,
   "metadata": {
    "colab": {},
    "colab_type": "code",
    "id": "dxwhF-hfLMQN"
   },
   "outputs": [],
   "source": [
    "history_1_df = pd.DataFrame(history_1.history)"
   ]
  },
  {
   "cell_type": "code",
   "execution_count": 71,
   "metadata": {
    "colab": {
     "base_uri": "https://localhost:8080/",
     "height": 197
    },
    "colab_type": "code",
    "id": "NRandgv8Lal6",
    "outputId": "7e775069-5e38-4e84-e265-af8beffb3424"
   },
   "outputs": [
    {
     "data": {
      "text/html": [
       "<div>\n",
       "<style scoped>\n",
       "    .dataframe tbody tr th:only-of-type {\n",
       "        vertical-align: middle;\n",
       "    }\n",
       "\n",
       "    .dataframe tbody tr th {\n",
       "        vertical-align: top;\n",
       "    }\n",
       "\n",
       "    .dataframe thead th {\n",
       "        text-align: right;\n",
       "    }\n",
       "</style>\n",
       "<table border=\"1\" class=\"dataframe\">\n",
       "  <thead>\n",
       "    <tr style=\"text-align: right;\">\n",
       "      <th></th>\n",
       "      <th>loss</th>\n",
       "      <th>accuracy</th>\n",
       "      <th>val_loss</th>\n",
       "      <th>val_accuracy</th>\n",
       "    </tr>\n",
       "  </thead>\n",
       "  <tbody>\n",
       "    <tr>\n",
       "      <th>0</th>\n",
       "      <td>0.885999</td>\n",
       "      <td>0.709899</td>\n",
       "      <td>0.774480</td>\n",
       "      <td>0.729864</td>\n",
       "    </tr>\n",
       "    <tr>\n",
       "      <th>1</th>\n",
       "      <td>0.778361</td>\n",
       "      <td>0.737409</td>\n",
       "      <td>0.717793</td>\n",
       "      <td>0.742007</td>\n",
       "    </tr>\n",
       "    <tr>\n",
       "      <th>2</th>\n",
       "      <td>0.706355</td>\n",
       "      <td>0.757538</td>\n",
       "      <td>0.639241</td>\n",
       "      <td>0.767286</td>\n",
       "    </tr>\n",
       "    <tr>\n",
       "      <th>3</th>\n",
       "      <td>0.623249</td>\n",
       "      <td>0.783836</td>\n",
       "      <td>0.569476</td>\n",
       "      <td>0.792565</td>\n",
       "    </tr>\n",
       "    <tr>\n",
       "      <th>4</th>\n",
       "      <td>0.559984</td>\n",
       "      <td>0.801267</td>\n",
       "      <td>0.525170</td>\n",
       "      <td>0.810905</td>\n",
       "    </tr>\n",
       "  </tbody>\n",
       "</table>\n",
       "</div>"
      ],
      "text/plain": [
       "       loss  accuracy  val_loss  val_accuracy\n",
       "0  0.885999  0.709899  0.774480      0.729864\n",
       "1  0.778361  0.737409  0.717793      0.742007\n",
       "2  0.706355  0.757538  0.639241      0.767286\n",
       "3  0.623249  0.783836  0.569476      0.792565\n",
       "4  0.559984  0.801267  0.525170      0.810905"
      ]
     },
     "execution_count": 71,
     "metadata": {
      "tags": []
     },
     "output_type": "execute_result"
    }
   ],
   "source": [
    "history_1_df.head()"
   ]
  },
  {
   "cell_type": "code",
   "execution_count": 72,
   "metadata": {
    "colab": {},
    "colab_type": "code",
    "id": "iAGEfHIsL1o9"
   },
   "outputs": [],
   "source": [
    "history_1_df.to_csv(\"history_1_700.csv\",header=True,index=False)"
   ]
  },
  {
   "cell_type": "code",
   "execution_count": 87,
   "metadata": {
    "colab": {
     "base_uri": "https://localhost:8080/",
     "height": 290
    },
    "colab_type": "code",
    "id": "lJjDktTQ5T0_",
    "outputId": "e6028d49-2872-4652-dace-bf76fe577ef0"
   },
   "outputs": [
    {
     "name": "stdout",
     "output_type": "stream",
     "text": [
      "Model: \"sequential_8\"\n",
      "_________________________________________________________________\n",
      "Layer (type)                 Output Shape              Param #   \n",
      "=================================================================\n",
      "word_embedding_layer (Embedd (None, None, 50)          1686400   \n",
      "_________________________________________________________________\n",
      "lstm_layer (LSTM)            (None, 50)                20200     \n",
      "_________________________________________________________________\n",
      "activation_1 (Activation)    (None, 50)                0         \n",
      "_________________________________________________________________\n",
      "output_layer (Dense)         (None, 4)                 204       \n",
      "=================================================================\n",
      "Total params: 1,706,804\n",
      "Trainable params: 20,404\n",
      "Non-trainable params: 1,686,400\n",
      "_________________________________________________________________\n"
     ]
    }
   ],
   "source": [
    "#Only LSTM\n",
    "#Build a sequential model by stacking neural net units\n",
    "model_2 = Sequential()\n",
    "model_2.add(Embedding(input_dim=len(tokenizer.word_index)+1, output_dim=EMBEDDING_DIM,\n",
    "                          weights = [embeddings_matrix], trainable=False, name='word_embedding_layer', \n",
    "                          mask_zero=True)) # trainable=True results in overfitting\n",
    "\n",
    "model_2.add(LSTM(LSTM_DIM, return_sequences=False, name='lstm_layer'))\n",
    "model_2.add(Activation(activation='relu', name='activation_1'))\n",
    "model_2.add(Dense(4, activation='softmax', name='output_layer'))\n",
    "model_2.summary()"
   ]
  },
  {
   "cell_type": "code",
   "execution_count": 88,
   "metadata": {
    "colab": {
     "base_uri": "https://localhost:8080/",
     "height": 466
    },
    "colab_type": "code",
    "id": "L3aP3Gwd-kFQ",
    "outputId": "f1284fbd-85fc-4bc9-858c-0bca645e5f6f"
   },
   "outputs": [
    {
     "data": {
      "image/png": "[encoded data removed]",
      "text/plain": [
       "<IPython.core.display.Image object>"
      ]
     },
     "execution_count": 88,
     "metadata": {
      "tags": []
     },
     "output_type": "execute_result"
    }
   ],
   "source": [
    "plot_model(model_2, to_file='lstm.png')"
   ]
  },
  {
   "cell_type": "code",
   "execution_count": 89,
   "metadata": {
    "colab": {},
    "colab_type": "code",
    "id": "6tTDS6lf5iwI"
   },
   "outputs": [],
   "source": [
    "optimizer = optimizers.Adam(lr=0.001)\n",
    "model_2.compile(loss='categorical_crossentropy',\n",
    "              optimizer=optimizer,\n",
    "              metrics=['accuracy'])"
   ]
  },
  {
   "cell_type": "code",
   "execution_count": 90,
   "metadata": {
    "colab": {
     "base_uri": "https://localhost:8080/",
     "height": 699
    },
    "colab_type": "code",
    "id": "eUWuc4C15jjH",
    "outputId": "64afe5e0-6b8d-4d56-cf95-41098f9f2853"
   },
   "outputs": [
    {
     "name": "stdout",
     "output_type": "stream",
     "text": [
      "Epoch 1/20\n",
      "71/71 [==============================] - 188s 3s/step - loss: 0.8476 - accuracy: 0.7318 - val_loss: 0.7927 - val_accuracy: 0.7299\n",
      "Epoch 2/20\n",
      "71/71 [==============================] - 179s 3s/step - loss: 0.7731 - accuracy: 0.7353 - val_loss: 0.7788 - val_accuracy: 0.7299\n",
      "Epoch 3/20\n",
      "71/71 [==============================] - 178s 3s/step - loss: 0.7602 - accuracy: 0.7353 - val_loss: 0.7699 - val_accuracy: 0.7299\n",
      "Epoch 4/20\n",
      "71/71 [==============================] - 179s 3s/step - loss: 0.7484 - accuracy: 0.7353 - val_loss: 0.7566 - val_accuracy: 0.7301\n",
      "Epoch 5/20\n",
      "71/71 [==============================] - 179s 3s/step - loss: 0.7344 - accuracy: 0.7358 - val_loss: 0.7397 - val_accuracy: 0.7299\n",
      "Epoch 6/20\n",
      "71/71 [==============================] - 178s 3s/step - loss: 0.7181 - accuracy: 0.7389 - val_loss: 0.7413 - val_accuracy: 0.7314\n",
      "Epoch 7/20\n",
      "71/71 [==============================] - 179s 3s/step - loss: 0.6997 - accuracy: 0.7447 - val_loss: 0.7125 - val_accuracy: 0.7405\n",
      "Epoch 8/20\n",
      "71/71 [==============================] - 178s 3s/step - loss: 0.6816 - accuracy: 0.7538 - val_loss: 0.7069 - val_accuracy: 0.7420\n",
      "Epoch 9/20\n",
      "71/71 [==============================] - 179s 3s/step - loss: 0.6612 - accuracy: 0.7638 - val_loss: 0.6874 - val_accuracy: 0.7457\n",
      "Epoch 10/20\n",
      "71/71 [==============================] - 179s 3s/step - loss: 0.6441 - accuracy: 0.7690 - val_loss: 0.6677 - val_accuracy: 0.7556\n",
      "Epoch 11/20\n",
      "71/71 [==============================] - 179s 3s/step - loss: 0.6280 - accuracy: 0.7750 - val_loss: 0.6839 - val_accuracy: 0.7492\n",
      "Epoch 12/20\n",
      "71/71 [==============================] - 180s 3s/step - loss: 0.6171 - accuracy: 0.7804 - val_loss: 0.6453 - val_accuracy: 0.7623\n",
      "Epoch 13/20\n",
      "71/71 [==============================] - 180s 3s/step - loss: 0.6083 - accuracy: 0.7831 - val_loss: 0.6371 - val_accuracy: 0.7675\n",
      "Epoch 14/20\n",
      "71/71 [==============================] - 180s 3s/step - loss: 0.5906 - accuracy: 0.7889 - val_loss: 0.6234 - val_accuracy: 0.7747\n",
      "Epoch 15/20\n",
      "71/71 [==============================] - 179s 3s/step - loss: 0.5791 - accuracy: 0.7952 - val_loss: 0.6141 - val_accuracy: 0.7787\n",
      "Epoch 16/20\n",
      "71/71 [==============================] - 179s 3s/step - loss: 0.5682 - accuracy: 0.7986 - val_loss: 0.6114 - val_accuracy: 0.7827\n",
      "Epoch 17/20\n",
      "71/71 [==============================] - 180s 3s/step - loss: 0.5575 - accuracy: 0.8026 - val_loss: 0.5999 - val_accuracy: 0.7856\n",
      "Epoch 18/20\n",
      "71/71 [==============================] - 180s 3s/step - loss: 0.5504 - accuracy: 0.8051 - val_loss: 0.5867 - val_accuracy: 0.7921\n",
      "Epoch 19/20\n",
      "71/71 [==============================] - 180s 3s/step - loss: 0.5428 - accuracy: 0.8086 - val_loss: 0.5921 - val_accuracy: 0.7918\n",
      "Epoch 20/20\n",
      "71/71 [==============================] - 180s 3s/step - loss: 0.5377 - accuracy: 0.8086 - val_loss: 0.5778 - val_accuracy: 0.7936\n"
     ]
    }
   ],
   "source": [
    "history_2 = model_2.fit(X_train, y_train,\n",
    "          batch_size=BATCH_SIZE,\n",
    "          epochs=20,\n",
    "          validation_data=(X_vali, y_vali)\n",
    "         )\n",
    "model_2.save('lstm_700.h5')"
   ]
  },
  {
   "cell_type": "code",
   "execution_count": 40,
   "metadata": {
    "colab": {},
    "colab_type": "code",
    "id": "j2--C43eQWs-"
   },
   "outputs": [],
   "source": [
    "model_2.save('lstm_700.h5')"
   ]
  },
  {
   "cell_type": "code",
   "execution_count": 91,
   "metadata": {
    "colab": {
     "base_uri": "https://localhost:8080/",
     "height": 295
    },
    "colab_type": "code",
    "id": "nwJrhgXk5nbM",
    "outputId": "99404939-3254-4500-b2a9-89424086f1b6"
   },
   "outputs": [
    {
     "data": {
      "image/png": "[encoded data removed]",
      "text/plain": [
       "<Figure size 432x288 with 1 Axes>"
      ]
     },
     "metadata": {
      "needs_background": "light",
      "tags": []
     },
     "output_type": "display_data"
    }
   ],
   "source": [
    "plt.plot(history_2.history['accuracy'])\n",
    "plt.plot(history_2.history['val_accuracy'])\n",
    "plt.title('Model accuracy with only LSTM(Truncation: 300 Epoch: 20)')\n",
    "plt.ylabel('Accuracy')\n",
    "plt.xlabel('Epoch')\n",
    "plt.legend(['train', 'test'], loc='upper left')\n",
    "plt.show()"
   ]
  },
  {
   "cell_type": "code",
   "execution_count": 92,
   "metadata": {
    "colab": {},
    "colab_type": "code",
    "id": "SI8oV9ddRRIO"
   },
   "outputs": [],
   "source": [
    "history_2_df = pd.DataFrame(history_2.history)\n",
    "history_2_df.to_csv(\"history_2_700.csv\",header=True,index=False)"
   ]
  },
  {
   "cell_type": "code",
   "execution_count": 108,
   "metadata": {
    "colab": {
     "base_uri": "https://localhost:8080/",
     "height": 426
    },
    "colab_type": "code",
    "id": "6Kc_681n6b3v",
    "outputId": "ad294a90-f167-4458-e0fc-2cb1f9a4e738"
   },
   "outputs": [
    {
     "name": "stdout",
     "output_type": "stream",
     "text": [
      "Model: \"sequential_14\"\n",
      "_________________________________________________________________\n",
      "Layer (type)                 Output Shape              Param #   \n",
      "=================================================================\n",
      "word_embedding_layer (Embedd (None, None, 50)          1686400   \n",
      "_________________________________________________________________\n",
      "lstm_layer (LSTM)            (None, 50)                20200     \n",
      "_________________________________________________________________\n",
      "bn_1 (BatchNormalization)    (None, 50)                200       \n",
      "_________________________________________________________________\n",
      "dropout_1 (Dropout)          (None, 50)                0         \n",
      "_________________________________________________________________\n",
      "activation_1 (Activation)    (None, 50)                0         \n",
      "_________________________________________________________________\n",
      "bn_2 (BatchNormalization)    (None, 50)                200       \n",
      "_________________________________________________________________\n",
      "dropout_2 (Dropout)          (None, 50)                0         \n",
      "_________________________________________________________________\n",
      "output_layer (Dense)         (None, 4)                 204       \n",
      "=================================================================\n",
      "Total params: 1,707,204\n",
      "Trainable params: 20,604\n",
      "Non-trainable params: 1,686,600\n",
      "_________________________________________________________________\n"
     ]
    }
   ],
   "source": [
    "#LSTM Model with BatchNormalization and Dropouts\n",
    "#Build a sequential model by stacking neural net units \n",
    "#dense layer: simply a layer connect units \n",
    "#dropout layer: for reduce overfitting a regularization method\n",
    "model_3 = Sequential()\n",
    "model_3.add(Embedding(input_dim=len(tokenizer.word_index)+1,output_dim=EMBEDDING_DIM, weights = [embeddings_matrix], trainable=False, name='word_embedding_layer', \n",
    "                          mask_zero=True)) # trainable=True results in overfitting\n",
    "\n",
    "model_3.add(LSTM(LSTM_DIM, return_sequences=False, name='lstm_layer')) # Can try Bidirectional-LSTM\n",
    "\n",
    "#model.add(Dense(32, name='dense_1'))\n",
    "model_3.add(BatchNormalization(name='bn_1')) # BN did not really help with performance \n",
    "model_3.add(Dropout(rate=0.4, name='dropout_1')) # Can try varying dropout rates, in paper suggest 0.2\n",
    "model_3.add(Activation(activation='relu', name='activation_1'))\n",
    "\n",
    "\n",
    "#model.add(Dense(8, name='dense_2'))\n",
    "model_3.add(BatchNormalization(name='bn_2'))\n",
    "model_3.add(Dropout(rate=0.2, name='dropout_2'))\n",
    "#model_3.add(Activation(activation='relu', name='activation_2'))\n",
    "\n",
    "model_3.add(Dense(4, activation='softmax', name='output_layer'))\n",
    "model_3.summary()"
   ]
  },
  {
   "cell_type": "code",
   "execution_count": 109,
   "metadata": {
    "colab": {
     "base_uri": "https://localhost:8080/",
     "height": 856
    },
    "colab_type": "code",
    "id": "JZNcf37b--HI",
    "outputId": "641ee4cf-d238-413d-8165-1d0825aace0c"
   },
   "outputs": [
    {
     "data": {
      "image/png": "[encoded data removed]",
      "text/plain": [
       "<IPython.core.display.Image object>"
      ]
     },
     "execution_count": 109,
     "metadata": {
      "tags": []
     },
     "output_type": "execute_result"
    }
   ],
   "source": [
    "plot_model(model_3, to_file='lstm_with_dropout.png')"
   ]
  },
  {
   "cell_type": "code",
   "execution_count": 110,
   "metadata": {
    "colab": {},
    "colab_type": "code",
    "id": "Bpm3L6A0_or6"
   },
   "outputs": [],
   "source": [
    "optimizer = optimizers.Adam(lr=0.001)\n",
    "model_3.compile(loss='categorical_crossentropy',\n",
    "              optimizer=optimizer,\n",
    "              metrics=['accuracy'])"
   ]
  },
  {
   "cell_type": "code",
   "execution_count": 111,
   "metadata": {
    "colab": {
     "base_uri": "https://localhost:8080/",
     "height": 699
    },
    "colab_type": "code",
    "id": "dJd-qHuu_xGw",
    "outputId": "fc6e510a-1322-420f-9f41-8207543dd6b3"
   },
   "outputs": [
    {
     "name": "stdout",
     "output_type": "stream",
     "text": [
      "Epoch 1/20\n",
      "71/71 [==============================] - 173s 2s/step - loss: 1.5770 - accuracy: 0.3204 - val_loss: 1.1733 - val_accuracy: 0.7301\n",
      "Epoch 2/20\n",
      "71/71 [==============================] - 171s 2s/step - loss: 1.1478 - accuracy: 0.5411 - val_loss: 0.9868 - val_accuracy: 0.7299\n",
      "Epoch 3/20\n",
      "71/71 [==============================] - 170s 2s/step - loss: 0.9237 - accuracy: 0.6781 - val_loss: 0.8620 - val_accuracy: 0.7299\n",
      "Epoch 4/20\n",
      "71/71 [==============================] - 170s 2s/step - loss: 0.8122 - accuracy: 0.7226 - val_loss: 0.7772 - val_accuracy: 0.7299\n",
      "Epoch 5/20\n",
      "71/71 [==============================] - 171s 2s/step - loss: 0.7705 - accuracy: 0.7333 - val_loss: 0.7531 - val_accuracy: 0.7323\n",
      "Epoch 6/20\n",
      "71/71 [==============================] - 171s 2s/step - loss: 0.7405 - accuracy: 0.7399 - val_loss: 0.7258 - val_accuracy: 0.7316\n",
      "Epoch 7/20\n",
      "71/71 [==============================] - 173s 2s/step - loss: 0.7216 - accuracy: 0.7446 - val_loss: 0.7068 - val_accuracy: 0.7323\n",
      "Epoch 8/20\n",
      "71/71 [==============================] - 171s 2s/step - loss: 0.7033 - accuracy: 0.7489 - val_loss: 0.6969 - val_accuracy: 0.7343\n",
      "Epoch 9/20\n",
      "71/71 [==============================] - 171s 2s/step - loss: 0.6931 - accuracy: 0.7512 - val_loss: 0.6798 - val_accuracy: 0.7445\n",
      "Epoch 10/20\n",
      "71/71 [==============================] - 171s 2s/step - loss: 0.6800 - accuracy: 0.7571 - val_loss: 0.6996 - val_accuracy: 0.7351\n",
      "Epoch 11/20\n",
      "71/71 [==============================] - 171s 2s/step - loss: 0.6653 - accuracy: 0.7611 - val_loss: 0.6813 - val_accuracy: 0.7415\n",
      "Epoch 12/20\n",
      "71/71 [==============================] - 171s 2s/step - loss: 0.6567 - accuracy: 0.7645 - val_loss: 0.6820 - val_accuracy: 0.7398\n",
      "Epoch 13/20\n",
      "71/71 [==============================] - 171s 2s/step - loss: 0.6450 - accuracy: 0.7678 - val_loss: 0.6905 - val_accuracy: 0.7400\n",
      "Epoch 14/20\n",
      "71/71 [==============================] - 171s 2s/step - loss: 0.6351 - accuracy: 0.7714 - val_loss: 0.6397 - val_accuracy: 0.7715\n",
      "Epoch 15/20\n",
      "71/71 [==============================] - 171s 2s/step - loss: 0.6230 - accuracy: 0.7772 - val_loss: 0.6655 - val_accuracy: 0.7586\n",
      "Epoch 16/20\n",
      "71/71 [==============================] - 171s 2s/step - loss: 0.6185 - accuracy: 0.7768 - val_loss: 0.6251 - val_accuracy: 0.7700\n",
      "Epoch 17/20\n",
      "71/71 [==============================] - 172s 2s/step - loss: 0.6063 - accuracy: 0.7828 - val_loss: 0.6139 - val_accuracy: 0.7747\n",
      "Epoch 18/20\n",
      "71/71 [==============================] - 171s 2s/step - loss: 0.5974 - accuracy: 0.7869 - val_loss: 0.6200 - val_accuracy: 0.7727\n",
      "Epoch 19/20\n",
      "71/71 [==============================] - 171s 2s/step - loss: 0.5918 - accuracy: 0.7882 - val_loss: 0.5930 - val_accuracy: 0.7869\n",
      "Epoch 20/20\n",
      "71/71 [==============================] - 170s 2s/step - loss: 0.5864 - accuracy: 0.7910 - val_loss: 0.6277 - val_accuracy: 0.7680\n"
     ]
    }
   ],
   "source": [
    "history_3 = model_3.fit(X_train, y_train,\n",
    "          batch_size=BATCH_SIZE,\n",
    "          epochs=20,\n",
    "          validation_data=(X_vali, y_vali)\n",
    "         )\n",
    "model_3.save('lstm_with_dropout_700.h5')"
   ]
  },
  {
   "cell_type": "code",
   "execution_count": 47,
   "metadata": {
    "colab": {},
    "colab_type": "code",
    "id": "w1Sz8OlmUesh"
   },
   "outputs": [],
   "source": [
    "model_3.save('lstm_with_dropout.h5')"
   ]
  },
  {
   "cell_type": "code",
   "execution_count": 99,
   "metadata": {
    "colab": {
     "base_uri": "https://localhost:8080/",
     "height": 295
    },
    "colab_type": "code",
    "id": "_xEkfCWb_7o7",
    "outputId": "3ac60fd5-2202-41ec-bbf7-293775b8b82a"
   },
   "outputs": [
    {
     "data": {
      "image/png": "[encoded data removed]",
      "text/plain": [
       "<Figure size 432x288 with 1 Axes>"
      ]
     },
     "metadata": {
      "needs_background": "light",
      "tags": []
     },
     "output_type": "display_data"
    }
   ],
   "source": [
    "plt.plot(history_3.history['accuracy'])\n",
    "plt.plot(history_3.history['val_accuracy'])\n",
    "plt.title('Model accuracy of only LSTM with Dropouts(Truncation: 300 Epoch: 20)')\n",
    "plt.ylabel('Accuracy')\n",
    "plt.xlabel('Epoch')\n",
    "plt.legend(['train', 'test'], loc='upper left')\n",
    "plt.show()"
   ]
  },
  {
   "cell_type": "code",
   "execution_count": 112,
   "metadata": {
    "colab": {},
    "colab_type": "code",
    "id": "Skav8u8ScMsI"
   },
   "outputs": [],
   "source": [
    "history_3_df = pd.DataFrame(history_3.history)\n",
    "history_3_df.to_csv(\"history_3_700.csv\",header=True,index=False)"
   ]
  },
  {
   "cell_type": "code",
   "execution_count": 113,
   "metadata": {
    "colab": {},
    "colab_type": "code",
    "id": "JpbPsqX6cbOe"
   },
   "outputs": [],
   "source": [
    "class attention(Layer):\n",
    "    def __init__(self,**kwargs):\n",
    "        super(attention,self).__init__(**kwargs)\n",
    "\n",
    "    def build(self,input_shape):\n",
    "        self.W=self.add_weight(name=\"att_weight\",shape=(input_shape[-1],1),initializer=\"normal\")\n",
    "        self.b=self.add_weight(name=\"att_bias\",shape=(input_shape[1],1),initializer=\"zeros\")        \n",
    "        super(attention, self).build(input_shape)\n",
    "\n",
    "    def call(self,x):\n",
    "        et=K.squeeze(K.tanh(K.dot(x,self.W)+self.b),axis=-1)\n",
    "        at=K.softmax(et)\n",
    "        at=K.expand_dims(at,axis=-1)\n",
    "        output=x*at\n",
    "        return K.sum(output,axis=1)\n",
    "\n",
    "    def compute_output_shape(self,input_shape):\n",
    "        return (input_shape[0],input_shape[-1])\n",
    "\n",
    "    def get_config(self):\n",
    "        return super(attention,self).get_config()"
   ]
  },
  {
   "cell_type": "code",
   "execution_count": 116,
   "metadata": {
    "colab": {},
    "colab_type": "code",
    "id": "BzPsZLnjGctf"
   },
   "outputs": [],
   "source": [
    "model_4 = Sequential()\n",
    "model_4.add(Embedding(input_dim=len(tokenizer.word_index)+1, input_length = MAX_SENT_LEN,\n",
    "                          output_dim=EMBEDDING_DIM,\n",
    "                          weights = [embeddings_matrix], trainable= False, name='word_embedding_layer', \n",
    "                          mask_zero=True)) # trainable=True results in overfitting\n",
    "\n",
    "model_4.add(LSTM(LSTM_DIM, return_sequences=True, name='lstm_layer')) # Can try Bidirectional-LSTM\n",
    "model_4.add(Dropout(rate=0.2, name='dropout_1')) # Can try varying dropout rates, in paper suggest 0.2\n",
    "model_4.add(Activation(activation='relu', name='activation_1'))\n",
    "#output (batch_size, timesteps, input_dim)\n",
    "model_4.add(attention())\n",
    "model_4.add(Dense(4, activation='softmax', name='output_layer'))"
   ]
  },
  {
   "cell_type": "code",
   "execution_count": 117,
   "metadata": {
    "colab": {
     "base_uri": "https://localhost:8080/",
     "height": 358
    },
    "colab_type": "code",
    "id": "7DTWTp8KG-_z",
    "outputId": "532f9c76-a3c1-4e7c-c806-acc3622ac0bb"
   },
   "outputs": [
    {
     "name": "stdout",
     "output_type": "stream",
     "text": [
      "Model: \"sequential_16\"\n",
      "_________________________________________________________________\n",
      "Layer (type)                 Output Shape              Param #   \n",
      "=================================================================\n",
      "word_embedding_layer (Embedd (None, 700, 50)           1686400   \n",
      "_________________________________________________________________\n",
      "lstm_layer (LSTM)            (None, 700, 50)           20200     \n",
      "_________________________________________________________________\n",
      "dropout_1 (Dropout)          (None, 700, 50)           0         \n",
      "_________________________________________________________________\n",
      "activation_1 (Activation)    (None, 700, 50)           0         \n",
      "_________________________________________________________________\n",
      "attention_1 (attention)      (None, 50)                750       \n",
      "_________________________________________________________________\n",
      "output_layer (Dense)         (None, 4)                 204       \n",
      "=================================================================\n",
      "Total params: 1,707,554\n",
      "Trainable params: 21,154\n",
      "Non-trainable params: 1,686,400\n",
      "_________________________________________________________________\n"
     ]
    }
   ],
   "source": [
    "model_4.summary()"
   ]
  },
  {
   "cell_type": "code",
   "execution_count": 118,
   "metadata": {
    "colab": {},
    "colab_type": "code",
    "id": "oQeVUjhGHV-K"
   },
   "outputs": [],
   "source": [
    "optimizer = optimizers.Adam(lr=0.001) # Try a different learning rate\n",
    "\n",
    "model_4.compile(loss='categorical_crossentropy',\n",
    "              optimizer=optimizer,\n",
    "              metrics=['accuracy'])"
   ]
  },
  {
   "cell_type": "code",
   "execution_count": 119,
   "metadata": {
    "colab": {
     "base_uri": "https://localhost:8080/",
     "height": 699
    },
    "colab_type": "code",
    "id": "g8qHNUhUHdhe",
    "outputId": "cf6d85bf-c085-493f-be70-258007687b72"
   },
   "outputs": [
    {
     "name": "stdout",
     "output_type": "stream",
     "text": [
      "Epoch 1/20\n",
      "71/71 [==============================] - 198s 3s/step - loss: 0.9084 - accuracy: 0.6916 - val_loss: 0.8012 - val_accuracy: 0.7299\n",
      "Epoch 2/20\n",
      "71/71 [==============================] - 197s 3s/step - loss: 0.7829 - accuracy: 0.7353 - val_loss: 0.7861 - val_accuracy: 0.7299\n",
      "Epoch 3/20\n",
      "71/71 [==============================] - 198s 3s/step - loss: 0.7676 - accuracy: 0.7355 - val_loss: 0.7731 - val_accuracy: 0.7306\n",
      "Epoch 4/20\n",
      "71/71 [==============================] - 198s 3s/step - loss: 0.7554 - accuracy: 0.7355 - val_loss: 0.7612 - val_accuracy: 0.7306\n",
      "Epoch 5/20\n",
      "71/71 [==============================] - 198s 3s/step - loss: 0.7434 - accuracy: 0.7363 - val_loss: 0.7571 - val_accuracy: 0.7326\n",
      "Epoch 6/20\n",
      "71/71 [==============================] - 199s 3s/step - loss: 0.7305 - accuracy: 0.7385 - val_loss: 0.7441 - val_accuracy: 0.7361\n",
      "Epoch 7/20\n",
      "71/71 [==============================] - 199s 3s/step - loss: 0.7423 - accuracy: 0.7376 - val_loss: 0.8017 - val_accuracy: 0.7323\n",
      "Epoch 8/20\n",
      "71/71 [==============================] - 198s 3s/step - loss: 0.7470 - accuracy: 0.7393 - val_loss: 0.7540 - val_accuracy: 0.7346\n",
      "Epoch 9/20\n",
      "71/71 [==============================] - 199s 3s/step - loss: 0.7292 - accuracy: 0.7425 - val_loss: 0.7368 - val_accuracy: 0.7435\n",
      "Epoch 10/20\n",
      "71/71 [==============================] - 198s 3s/step - loss: 0.7189 - accuracy: 0.7504 - val_loss: 0.7435 - val_accuracy: 0.7348\n",
      "Epoch 11/20\n",
      "71/71 [==============================] - 197s 3s/step - loss: 0.7132 - accuracy: 0.7526 - val_loss: 0.7259 - val_accuracy: 0.7358\n",
      "Epoch 12/20\n",
      "71/71 [==============================] - 197s 3s/step - loss: 0.6975 - accuracy: 0.7581 - val_loss: 0.7181 - val_accuracy: 0.7519\n",
      "Epoch 13/20\n",
      "71/71 [==============================] - 197s 3s/step - loss: 0.6988 - accuracy: 0.7538 - val_loss: 0.7007 - val_accuracy: 0.7546\n",
      "Epoch 14/20\n",
      "71/71 [==============================] - 198s 3s/step - loss: 0.6740 - accuracy: 0.7666 - val_loss: 0.6857 - val_accuracy: 0.7638\n",
      "Epoch 15/20\n",
      "71/71 [==============================] - 199s 3s/step - loss: 0.6579 - accuracy: 0.7756 - val_loss: 0.6763 - val_accuracy: 0.7703\n",
      "Epoch 16/20\n",
      "71/71 [==============================] - 197s 3s/step - loss: 0.6430 - accuracy: 0.7822 - val_loss: 0.6589 - val_accuracy: 0.7829\n",
      "Epoch 17/20\n",
      "71/71 [==============================] - 198s 3s/step - loss: 0.6303 - accuracy: 0.7873 - val_loss: 0.6607 - val_accuracy: 0.7802\n",
      "Epoch 18/20\n",
      "71/71 [==============================] - 199s 3s/step - loss: 0.6178 - accuracy: 0.7930 - val_loss: 0.6399 - val_accuracy: 0.7841\n",
      "Epoch 19/20\n",
      "71/71 [==============================] - 197s 3s/step - loss: 0.6040 - accuracy: 0.7976 - val_loss: 0.6351 - val_accuracy: 0.7844\n",
      "Epoch 20/20\n",
      "71/71 [==============================] - 197s 3s/step - loss: 0.5958 - accuracy: 0.7996 - val_loss: 0.6207 - val_accuracy: 0.7869\n"
     ]
    }
   ],
   "source": [
    "history_4 = model_4.fit(X_train, y_train,\n",
    "          batch_size=BATCH_SIZE,\n",
    "          epochs=20,\n",
    "          validation_data=(X_vali, y_vali)\n",
    "         )\n",
    "model_4.save('lstm_with_attention_700.h5')"
   ]
  },
  {
   "cell_type": "code",
   "execution_count": null,
   "metadata": {
    "colab": {},
    "colab_type": "code",
    "id": "sIx4NXWWHpx3"
   },
   "outputs": [],
   "source": []
  }
 ],
 "metadata": {
  "colab": {
   "name": "Untitled8.ipynb",
   "provenance": []
  },
  "kernelspec": {
   "display_name": "Python 3",
   "language": "python",
   "name": "python3"
  },
  "language_info": {
   "codemirror_mode": {
    "name": "ipython",
    "version": 3
   },
   "file_extension": ".py",
   "mimetype": "text/x-python",
   "name": "python",
   "nbconvert_exporter": "python",
   "pygments_lexer": "ipython3",
   "version": "3.7.4"
  }
 },
 "nbformat": 4,
 "nbformat_minor": 1
}
